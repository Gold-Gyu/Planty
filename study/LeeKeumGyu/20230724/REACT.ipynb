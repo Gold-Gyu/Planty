{
 "cells": [
  {
   "cell_type": "markdown",
   "metadata": {},
   "source": [
    "REACT\n",
    "기초\n",
    "1. 실습 환경 및 시작\n",
    " 리액트 설치\n",
    " Node.js 설치\n",
    " VS Code 사용  VS Code 실행 후 npx create-react-app . 명령어 입력\n",
    " 전체적인 코드 작성후 npm start 명령어 입력  index.js 파일과 App.js, App.css 파일을 중심으로 작성\n",
    "2. 기본 개념\n",
    "    - 컴포넌트\n",
    "        사용자 정의 태그 ( 반드시 대문자로 시작해서 만들 것 )"
   ]
  },
  {
   "cell_type": "code",
   "execution_count": null,
   "metadata": {
    "vscode": {
     "languageId": "javascript"
    }
   },
   "outputs": [],
   "source": [
    "function Header() {\n",
    "    <header>\n",
    "        <h1><a href=\"/\">WEB</a></h1>\n",
    "    </header>\n",
    "}\n",
    "*\n",
    "를 정리해주면 App 내에\n",
    "<header>\n",
    "    <h1><a href=\"/\">WEB</a></h1>\n",
    "</header>\n",
    "코드를\n",
    "<Header></Header>\n",
    "로 축약이 가능하다."
   ]
  },
  {
   "cell_type": "markdown",
   "metadata": {},
   "source": [
    "props\n",
    "기본 변수 넘길 때"
   ]
  },
  {
   "cell_type": "code",
   "execution_count": null,
   "metadata": {
    "vscode": {
     "languageId": "javascript"
    }
   },
   "outputs": [],
   "source": [
    "function Article(props) {\n",
    "    return (\n",
    "        <article>\n",
    "            <h2>{props.title}<h2>\n",
    "            <h2>{props.body}<h2>\n",
    "        </article>\n",
    "    )\n",
    "}\n",
    "\n",
    "function App() {\n",
    "    return (\n",
    "        <div>\n",
    "            <Article title=\"welcome\" body=\"hello web\">\n",
    "        </div>\n",
    "    )\n",
    "}"
   ]
  },
  {
   "cell_type": "markdown",
   "metadata": {},
   "source": [
    " App 안 Article 태그 속 변수를 넣어주면 그 값과 함께 딕셔너리 형태로 넘어간다.\n",
    "  그리고 그 딕셔너리 이름은 위에 Article을 정의할 때 쓰는 인자 이름이 된다.\n",
    "객체를 목록 형태로 넘길 때\n",
    "  기본 변수를 넘길 때처럼 리스트 전체(중괄호)를 넘기고 바로 받는다면 li 태그 하나에 담기기 때문에 목록 형식으로 바꾸지 못한다.\n",
    "  따라서 리스트를 넘겨받고 반복문을 이용해 li 태그들을 하나씩 만들어 준다."
   ]
  },
  {
   "cell_type": "code",
   "execution_count": null,
   "metadata": {
    "vscode": {
     "languageId": "javascript"
    }
   },
   "outputs": [],
   "source": [
    "function Nav(props) {\n",
    "    const lis = []\n",
    "    for (let i = 0; i<props.topics.length; i++) {\n",
    "        let t = props.topics[i]\n",
    "        lis.push(<li key={t.id}><a href={'/read/'+t.id}>{t.title}</a></li>)\n",
    "    }\n",
    "    return (\n",
    "        <nav>\n",
    "            <ol>\n",
    "                {lis}\n",
    "            </ol>\n",
    "        </nav>\n",
    "    )\n",
    "\n",
    "}\n",
    "\n",
    "function App() {\n",
    "    const topics = [\n",
    "        {id : 1, title:'html', body:'html is'},\n",
    "        {id : 2, title:'css', body:'css is'},\n",
    "        {id : 3, title:'js', body:'js is'}\n",
    "    ]\n",
    "    return (\n",
    "        <div>\n",
    "            <Nav topics={topics}></Nav>\n",
    "        </div>\n",
    "    )\n",
    "}"
   ]
  },
  {
   "cell_type": "markdown",
   "metadata": {},
   "source": [
    "이벤트"
   ]
  },
  {
   "cell_type": "code",
   "execution_count": null,
   "metadata": {
    "vscode": {
     "languageId": "javascript"
    }
   },
   "outputs": [],
   "source": [
    "function Nav(props) {\n",
    "    const lis = []\n",
    "    for (let i = 0; i<props.topics.length; i++) {\n",
    "        let t = props.topics[i]\n",
    "        lis.push(<li key={t.id}><a href={'/read/'+t.id} onClick={event=>{\n",
    "            event.preventDefault()\n",
    "            props.onChangeMode(event.target.id)\n",
    "            어떤 상황에 어떤 인자로 함수를 실행시킬지 결정\n",
    "        }}>{t.title}</a></li>)\n",
    "    }\n",
    "    return (\n",
    "        <nav>\n",
    "            <ol>\n",
    "                {lis}\n",
    "            </ol>\n",
    "        </nav>\n",
    "    )\n",
    "\n",
    "}\n",
    "\n",
    "function App() {\n",
    "    const topics = [\n",
    "        {id : 1, title:'html', body:'html is'},\n",
    "        {id : 2, title:'css', body:'css is'},\n",
    "        {id : 3, title:'js', body:'js is'}\n",
    "    ]\n",
    "    return (\n",
    "        <div>\n",
    "            <Nav topics={topics} onChangeMode={(id)=>{\n",
    "                alert(id)\n",
    "            }}></Nav>\n",
    "            어떤 함수를 넘길 것인지 정의\n",
    "        </div>\n",
    "    )\n",
    "}"
   ]
  },
  {
   "cell_type": "markdown",
   "metadata": {},
   "source": [
    "State\n",
    "  prop은 컴포넌트를 사용하는 외부자를 위한 데이터\n",
    "  state는 컴포넌트를 만드는 내부자를 위한 데이터   import {useState} from 'react'   기본 컴포넌트 내 함수에서 변수를 바꿔준다고 했을 때 컴포넌트가 다시 시작되지 않아 리턴값에 변화가 없다. 이러한 문제를 해결하기 위해(변수값이 변화함에 따라 컴포넌트를 다시 실행하여 새로운 리턴값을 나오게 한다.) state를 사용"
   ]
  },
  {
   "cell_type": "code",
   "execution_count": null,
   "metadata": {
    "vscode": {
     "languageId": "javascript"
    }
   },
   "outputs": [],
   "source": [
    "function App() {\n",
    "    const [mode, setMode] = useState('WELCOME')\n",
    "    생략\n",
    "}"
   ]
  },
  {
   "cell_type": "markdown",
   "metadata": {},
   "source": [
    "에서 mode 라는 변수명에 'WELCOME' 이라는 문자열의 초기값이 들어가고 이후에\n",
    "  setMode(A)\n",
    "  코드를 통해 mode의 변수에 A를 할당할 수 있다.\n",
    "  (ex) setMode('READ')\n",
    "CRUD  \n",
    "CREATE\n",
    "  a태그로 create 링크를 따로 만들고 그 태그를 클릭시 새로고침이 되지 않는 event.preventDefault() 설정과 모드를 CREATE로 바뀌어 content가 Create태그가 되도록 한다."
   ]
  },
  {
   "cell_type": "code",
   "execution_count": null,
   "metadata": {
    "vscode": {
     "languageId": "javascript"
    }
   },
   "outputs": [],
   "source": [
    "App return 안에\n",
    "<a href=\"/create\" onClick={(event) => {\n",
    "    event.preventDefault()\n",
    "    setMode('CREATE')\n",
    "}}>Create</a>\n",
    "\n",
    "else if (mode==='CREATE') {\n",
    "    content = <Create></Create>\n",
    "}"
   ]
  },
  {
   "cell_type": "markdown",
   "metadata": {},
   "source": [
    " 다음으로 Create 컴포넌트와 그 안 폼을 만들어 주어야 한다."
   ]
  },
  {
   "cell_type": "code",
   "execution_count": null,
   "metadata": {
    "vscode": {
     "languageId": "javascript"
    }
   },
   "outputs": [],
   "source": [
    "function Create() {\n",
    "    return <Article>\n",
    "    <h2>Create</h2>\n",
    "    <form>\n",
    "        <p><input type=\"next\" name=\"title\" placeholder=\"title\" /></p>\n",
    "        <p><textarea name=\"body\" placeholder=\"body\"></textarea></p>\n",
    "        <p><input type=\"submit\" value=\"Create\"></input></p>\n",
    "    </form>\n",
    "    \n",
    "    \n",
    "    </Article>\n",
    "}"
   ]
  },
  {
   "cell_type": "markdown",
   "metadata": {},
   "source": [
    "이제 submit이 되었을 때 현재 input 칸에 있는 값들을 변수로 빼와야 한다. 따라서 form 태그에 onSubmit 일 때 함수 내용을 설정하여 준다."
   ]
  },
  {
   "cell_type": "code",
   "execution_count": null,
   "metadata": {
    "vscode": {
     "languageId": "javascript"
    }
   },
   "outputs": [],
   "source": [
    "<form onSubmit={event=>{\n",
    "    event.preventDefault()\n",
    "    console.log(event.target)\n",
    "    const title = event.target.title.value\n",
    "    const body = event.target.body.value\n",
    "    props.onCreate(title,body)\n",
    "    }}>"
   ]
  },
  {
   "cell_type": "markdown",
   "metadata": {},
   "source": [
    "onSubmit 함수 내 event.target은 이벤트가 발생한 태그이므로 form 태그에 해당하고 거기 안에 name이 title과 body인 태그의 value값을 각각 변수로 설정해준다. 그 설정한 변수들을 기존 리스트에 더해주는 onCreate 함수를 또 Create 태그가 호출당하는 부분에 정의해 준다."
   ]
  },
  {
   "cell_type": "code",
   "execution_count": null,
   "metadata": {
    "vscode": {
     "languageId": "javascript"
    }
   },
   "outputs": [],
   "source": []
  },
  {
   "cell_type": "code",
   "execution_count": null,
   "metadata": {
    "vscode": {
     "languageId": "javascript"
    }
   },
   "outputs": [],
   "source": [
    "else if (mode === \"CREATE\") {\n",
    "    content = <Create onCreate={(_title, _body) => {\n",
    "    const newTopic = {id : nextid, title : _title, body : _body}\n",
    "    const newTopics = [...topics]\n",
    "    newTopics.push(newTopic)\n",
    "    setTopics(newTopics)\n",
    "    setMode(\"READ\")\n",
    "    setId(nextid)\n",
    "    setNextId(nextid + 1)\n",
    "    }}></Create>\n",
    "}"
   ]
  },
  {
   "cell_type": "markdown",
   "metadata": {},
   "source": [
    "위 코드에서 주의할 점으로 범 객체를 수정하기 위해서는 새로운 변수명에 복제본을 만들고 그것을 수정하여 저장해야 한다는 것이다. 또한, create가 될 때마다 id 값이 늘어나야 하므로 App 함수 내 새로 state를 만들어 주어야 한다."
   ]
  },
  {
   "cell_type": "code",
   "execution_count": null,
   "metadata": {
    "vscode": {
     "languageId": "javascript"
    }
   },
   "outputs": [],
   "source": [
    "const [nextid, setNextId] = useState(4)"
   ]
  },
  {
   "cell_type": "markdown",
   "metadata": {},
   "source": [
    "마지막에 다시 모드를 READ로 바꾸고 최근 id 값(방금 만든 게시글)에 해당하는 글이 보이도록 설정한다.\n",
    "UPDATE\n",
    "  각 게시글마다 update가 가능하게 하기 위해 READ 모드일 때 update 버튼을 만들어 준다. 현재 읽고 있는 게시글의 id 또한 넘겨줘야 하기 때문에 버튼 클릭 시 id가 포함된 url 링크로 가도록 설정한다.\n",
    "  contextControl이라는 변수에 저장시켜주고 Create 아래 버튼에 나타내어 준다.\n"
   ]
  },
  {
   "cell_type": "code",
   "execution_count": null,
   "metadata": {
    "vscode": {
     "languageId": "javascript"
    }
   },
   "outputs": [],
   "source": [
    "else if (mode === 'READ') {\n",
    "    let title, body = null\n",
    "    for (let i=0; i<topics.length; i++) {\n",
    "    \n",
    "    if (topics[i].id === id) {\n",
    "        title = topics[i].title\n",
    "        body = topics[i].body\n",
    "  \n",
    "    }\n",
    "    }\n",
    "    content = <Article title={title} body={body}></Article>\n",
    "    contextControl = <li><a href={\"/update/\"+id} onClick={event=>{\n",
    "    event.preventDefault()\n",
    "    setMode('UPDATE')\n",
    "    }}>Update</a></li>}"
   ]
  },
  {
   "cell_type": "code",
   "execution_count": null,
   "metadata": {
    "vscode": {
     "languageId": "javascript"
    }
   },
   "outputs": [],
   "source": [
    "<li>\n",
    "<a href=\"/create\" onClick={event=> {\n",
    "  event.preventDefault()\n",
    "  setMode('CREATE')\n",
    "  }}>Create</a>\n",
    "  {contextControl}\n",
    "</li>"
   ]
  },
  {
   "cell_type": "markdown",
   "metadata": {},
   "source": [
    "event.preventDefault()를 넣는 이유는 CREATE 때와 똑같고 모드는 따로 UPDATE 모드로 바꿔 줍니다.   App 컴포넌트 내 mode가 UPDATE 모드일 때 content가 Update 컴포넌트가 되도록 Update 컴포넌트를 만들어 준다.\n",
    "  Update 컴포넌트는 Create 컴포넌트 때와 같이 폼을 만들어주어야 하지만 그 폼 안에 내용이 현재 저장되어 있는 값이 나오도록 설정해야 한다. 따라서 Update 컴포넌트가 실행될 때 적절한 props값(현재 READ 모드이니 그 때의 title과 body값)도 같이 넘겨줘야 한다."
   ]
  },
  {
   "cell_type": "code",
   "execution_count": null,
   "metadata": {
    "vscode": {
     "languageId": "javascript"
    }
   },
   "outputs": [],
   "source": [
    "else if (mode === 'UPDATE') {\n",
    "    let title = body = null;\n",
    "    for (let i = 0; i < topics.length; i++) {\n",
    "        if (topics[i].id === id) {\n",
    "            title = topics[i].title\n",
    "            body = topics[i].body\n",
    "        }\n",
    "    }\n",
    "    content = <Update title={title} body={body} onUpdate={(title, body) => {\n",
    "\n",
    "    }}></Update>\n",
    "}"
   ]
  },
  {
   "cell_type": "markdown",
   "metadata": {},
   "source": [
    " 이렇게 잘 update 폼에 기존 값이 잘 나올 수 있겠지만 입력칸에 값을 수정해도 같은 컴포넌트 안이라서 state를 이용하여 값을 바꿔줘야 한다. onChange 를 이용하여 값이 변화함에 따라 실시간으로 바꿔준다.\n",
    "  또한, submit이 되었을 때 그 시점 title, body 값에 대한 함수를 실행시켜준다."
   ]
  },
  {
   "cell_type": "code",
   "execution_count": null,
   "metadata": {
    "vscode": {
     "languageId": "javascript"
    }
   },
   "outputs": [],
   "source": [
    "function Update(props) {\n",
    "    const [title, setTitle] = useState(props.title)\n",
    "    const [body, setBody] = useState(props.body)\n",
    "    return (\n",
    "        <article>\n",
    "        <h2>Update</h2>\n",
    "        <form onSubmit={event=>{\n",
    "            event.preventDefault()\n",
    "            console.log(event.target)\n",
    "            const title = event.target.title.value\n",
    "            const body = event.target.body.value\n",
    "            props.onUpdate(title,body)\n",
    "        }}>\n",
    "            <p>\n",
    "            <input type=\"text\" name=\"title\" placeholder='title' value={title} onChange={event=>{\n",
    "                setTitle(event.target.value)\n",
    "            }}/>\n",
    "            </p>\n",
    "            <p>\n",
    "            <textarea name=\"body\" placeholder='body' value={body} onChange={event=>{\n",
    "                setBody(event.target.value)\n",
    "            }}></textarea>\n",
    "            </p>\n",
    "            <p>\n",
    "            <input type=\"submit\" value=\"Update\"></input>\n",
    "            </p>\n",
    "        </form>\n",
    "  \n",
    "  "
   ]
  },
  {
   "cell_type": "code",
   "execution_count": null,
   "metadata": {
    "vscode": {
     "languageId": "javascript"
    }
   },
   "outputs": [],
   "source": [
    "</article>\n",
    ")\n",
    "}\n",
    "```\n",
    "마지막으로 create 때와 같이 onUpdate 함수를 정의할 때 넘겨 받은 값을 리스트에 추가하도록 해 주고 그 게시글을 자동으로 READ하도록 해준다.\n",
    "\n",
    "```\n",
    "content = <Update title={title} body={body} onUpdate={(title,body) => {\n",
    "const updatedTopic = {id:id, title:title, body:body}\n",
    "const newTopics = [...topics]\n",
    "for(let i=0; i<newTopics.length; i++) {\n",
    "    if (newTopics[i].id === id) {\n",
    "    newTopics[i] = updatedTopic\n",
    "    break\n",
    "    }\n",
    "}\n",
    "setTopics(newTopics)\n",
    "setMode(\"READ\")\n",
    "}}></Update>\n",
    "```\n",
    "\n",
    "- **DELETE**  \n",
    "Delete 버튼도 Update와 똑같이 Read모드일 때 각 게시글마다 작동이 되도록 한다. contextControl에 delete 버튼을 만들어 주기 위해 li 태그 바깥으로 빈 태그 <>를 추가시켜준다.\n",
    "\n",
    "```\n",
    "contextControl = <><li><a href={\"/update/\"+id} onClick={event=>{\n",
    "event.preventDefault()\n",
    "setMode('UPDATE')\n",
    "}}>Update</a></li>\n",
    "<li><input type=\"button\" value=\"Delete\" onClick={()=>{\n",
    "}} /></li>\n",
    "</>\n",
    "```\n",
    "먼저 빈 배열을 만들어주고 지우려는 게시글을 제외하고 나머지를 다 담아 준다.\n",
    "그리고 현재 topics 배열을 state를 이용해 방금 만든 newTopics로 바꿔주고 모드 또한 처음 WELCOME 모드로 바꿔준다.\n",
    "```\n",
    "<li><input type=\"button\" value=\"Delete\" onClick={()=>{\n",
    "const newTopics = []\n",
    "for(let i=0; i<topics.length; i++) {\n",
    "    if (topics[i].id !== id) {\n",
    "    newTopics.push(topics[i])\n",
    "\n",
    "    }\n",
    "}\n",
    "setTopics(newTopics)\n",
    "setMode('WELCOME')\n",
    "}} /></li>\n",
    "```"
   ]
  },
  {
   "cell_type": "markdown",
   "metadata": {},
   "source": [
    "Router DOM\n",
    "사용 목적 및 실습 환경  여러 개의 페이지로 이뤄진 애플리케이션을 쉽게 만드는데 도움을 준다.\n",
    " npm install react-router-dom 설치\n",
    " import { BrowserRouter, Route, Routes } from 'react-router-dom';\n",
    "\n",
    " BrowserRouter : 리액트 라우터의 도움을 받고 싶은 컴포넌트의 최상위 컴포넌트를 감싸는 래퍼 컴포넌트\n",
    "\n",
    " ReactDom.createRoot(document.getElementById('root')).render(<BrowserRouter><App /></BrowserRouter>) 를 통해 최상위 컴포넌트 App을 감싸준다.\n",
    "  BrowserRouter와 달리 HashRouter는 URL에 #이 들어가 있고, 어떤 패스로 들어와도 동일한 웹페이지를 서비스할 수 있게 한다.\n",
    "Router  URL에 따라 달라지게 구현하고 싶은 Route 컴포넌트를 정의한다.  \n",
    " (ex)\n",
    "     function Home() {\n",
    "         return (\n",
    "             <div>\n",
    "             <h2>Home</h2>\n",
    "             Home....\n",
    "             </div>\n",
    "         )\n",
    "     }   \n",
    " 다음으로 return - div 속 a태그를 이용하여 각각의 url을 설정해주고 Route 컴포넌트들을 넣고 Routes 컴포넌트로 감싼다.\n",
    " <ul>\n",
    "     <li><a href='/' >Home</a></li>\n",
    "     <li><a href='/topics'>Topics</a></li>\n",
    "     <li><a href='/contact'>Contact</a></li>\n",
    " </ul>\n",
    " <Routes>\n",
    "     <Route path=\"/\" element={<Home />} />\n",
    "     <Route path=\"/topics/*\" element={<Topics />} />\n",
    "     <Route path=\"/contact\" element={<Contact />} />\n",
    "     <Route path=\"/*\" element={'Not Found'} />\n",
    " </Routes>\n",
    " 이렇게 설정해주면 해당 url로 이동했을 때 그 url에 맞는 컴포넌트가 렌더링 된다.\n",
    " 또한 Routes 태그 속 마지막에 Route 태그의 path를 '/*' 로 설정하여 주면 NotFound의 컴포넌트로 렌더링 되게 할 수 있다.\n",
    "Link  Link 컴포넌트는 페이지가 리로드되지 않고 페이지를 바꿀 수 있게 한다.\n",
    " Link 태그는 a 태그와 달리 href 대신 to 속성을 가지고 있다.\n",
    " <ul>\n",
    "     <li><Link to='/' >Home</Link></li>\n",
    "     <li><Link to='/topics'>Topics</Link></li>\n",
    "     <li><Link to='/contact'>Contact</Link></li>\n",
    " </ul>\n",
    " NavLink\n",
    " import {NavLink} from 'react-router-dom' 추가\n",
    " 일반 Link 태그와 달리 해당 태그를 선택했을 때 class에 active라는 속성을 추가한다. 이것을 이용해 css 파일에 \n",
    " .active {\n",
    "     background-color : tomato;\n",
    " }\n",
    " 와 같은 코드를 추가함으로써 선택이 된 태그를 표시해줄 수 있다.\n",
    "Nested Routing\n",
    " Route 태그 속 path 속성 안에 변수를 넣어 그 변수값에 따라 컴포넌트를 다르게 구현하는 기능이다.\n",
    " Routes 속 Route들을 일일히 만들 수 없을 때 사용하면 좋다.  먼저 import {useParams} from 'react-router-dom'; 추가\n",
    " var contents = [\n",
    "     {id : 1, title:'HTML', description:'HTML is ...'},\n",
    "     {id : 2, title:'JS', description:'JS is ...'},\n",
    "     {id : 3, title:'REACT', description:'REACT is ...'}\n",
    " ]\n",
    "\n",
    " function Topic() {\n",
    "     var params = useParams()\n",
    "     console.log(params)\n",
    "     var topic_id = params.topic_id\n",
    "     var selected_topic = {\n",
    "         title : 'Sorry',\n",
    "         description : 'Not Found'\n",
    " }\n",
    " for (var i = 0; i <contents.length; i++) {\n",
    "     if (contents[i].id === Number(topic_id)) {\n",
    "     selected_topic = contents[i]\n",
    "     break\n",
    "     }\n",
    " }\n",
    " console.log(params)\n",
    " return (\n",
    "     <div>\n",
    "     <h3>{selected_topic.title}</h3>\n",
    "     {selected_topic.description}\n",
    "     </div>\n",
    " )\n",
    " }\n",
    "\n",
    " function Topics() {\n",
    " var lis = []\n",
    " for (let i = 0; i < contents.length; i++) {\n",
    "     lis.push(\n",
    "     <li key={contents[i].id}><NavLink to={\"/topics/\"+contents[i].id}>{contents[i].title}</NavLink></li>\n",
    "     )\n",
    " }\n",
    " return (\n",
    "     <div>\n",
    "     <h2>Topics</h2>\n",
    "     <ul>\n",
    "         {lis}\n",
    "     </ul>\n",
    "     <Routes>\n",
    "         <Route path=\"/:topic_id\" element={<Topic />} />\n",
    "         \n",
    "     </Routes>\n",
    "     </div>\n",
    " )\n",
    " }\n",
    " \n",
    " Topics 내 Link 태그를 통해 현재 선택한 주제의 id를 포함한 url 링크로 연결이 된다. 그것이 Routes 속 Route 태그를 통해 topic_id에 해당 주제의 id가 들어가고 Topic 컴포넌트가 구현된다.  Topic 컴포넌트에서는 useParams()를 통해 params 변수를 만들고 그 속에 설정해준 topic_id 이름의 해당 id를 받을 수 있게 된다. 그 id와 contents 리스트를 비교하여 해당 id에 해당하는 주제의 내용만 호출할 수 있게 된다.\n",
    "Styled Components\n",
    "스타일드 컴포넌트 만들기    따로 style = {color:'white'} 라는 변수를 만들어서 스타일을 적용할 수 있는데 왜 굳이 styled-component를 만들어 사용할까?\n",
    " 자바스크립트 문법이 아닌 css 문법을 사용하여 스타일을 만들 수 있기 때문이다.  npm install styled-components\n",
    " import styled from 'styled-components';\n",
    "\n",
    " const StyleButton = styled.button`\n",
    "     color : white;\n",
    "     background-color : purple;\n",
    " \n",
    " `\n",
    " const 컴포넌트명 = styled.태그명 ``(백틱)\n",
    " css 내용\n",
    " `\n",
    " \n",
    " 상속도 가능\n",
    " const LargeButton = styled(StyleButton)`\n",
    "     상속에 더해 추가할 css내용\n",
    "     font-size : 50px;\n",
    " `\n",
    "일반적으로 만든 컴포넌트를 상속 받기\n",
    " const ReactButton = (props) => {\n",
    "     console.log(props)\n",
    "     return <button>{props.children}</button>\n",
    " }\n",
    "\n",
    " const ReactLargeButton = styled(ReactButton)`\n",
    "     font-size : 50px;\n",
    " ``\n",
    " App div 속\n",
    "     <ReactButton>React</ReactButton>\n",
    "     <ReactLargeButton>React Large</ReactLargeButton>\n",
    " \n",
    " 로 선언을 해주었을 때 상속이 되지 않고 ReactLargeButton props에 {children : 'React Large', className : '해당 css 관련 class'}이 출력된다. 따라서 상속을 해줄 때 따로 속성으로 className도 추가하여 준다.\n",
    " const ReactButton = (props) => {\n",
    "     console.log(props)\n",
    "     return <button className={props.className}>{props.children}</button>\n",
    " }\n",
    "\n",
    " const ReactLargeButton = styled(ReactButton)`\n",
    "     font-size : 50px;\n",
    " `\n",
    " App div 속\n",
    "     <ReactButton>React</ReactButton>\n",
    "     <ReactLargeButton>React Large</ReactLargeButton>\n",
    " \n",
    "props 값에 따라 동적으로 디자인 바꾸기\n",
    " App div 속\n",
    "\n",
    "     <PrimaryButton>Normal</PrimaryButton>\n",
    "     <PrimaryButton primary>Primary</PrimaryButton>\n",
    "\n",
    " const PrimaryButton = styled.button`\n",
    "     color : ${function(props) {\n",
    "         if(props.primary) {\n",
    "             return 'white'\n",
    "         }\n",
    "         else {\n",
    "             return 'black'\n",
    "         }\n",
    "     }}\n",
    " `\n",
    " 이런 식으로 PrimaryButton을 선언할 때 css속성에 함수를 추가하여 전달받은 props 내 primary 속성이 있다면 white 색상, 없다면 black 색상으로 구분할 수 있다."
   ]
  },
  {
   "cell_type": "code",
   "execution_count": null,
   "metadata": {
    "vscode": {
     "languageId": "javascript"
    }
   },
   "outputs": [],
   "source": []
  }
 ],
 "metadata": {
  "language_info": {
   "name": "python"
  },
  "orig_nbformat": 4
 },
 "nbformat": 4,
 "nbformat_minor": 2
}
